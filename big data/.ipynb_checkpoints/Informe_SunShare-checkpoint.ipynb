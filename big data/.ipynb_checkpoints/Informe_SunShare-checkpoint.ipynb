{
 "cells": [
  {
   "cell_type": "markdown",
   "id": "5e843269-9288-438b-9208-244b4566d9c4",
   "metadata": {},
   "source": [
    "---------------------------------------------------"
   ]
  },
  {
   "cell_type": "markdown",
   "id": "8e733d25-5707-4dc5-986b-e7e9ddf1a7dd",
   "metadata": {},
   "source": [
    "<div style=\"text-align: center; font-size: 38px; font-weight: bold;\">\n",
    "   SunShare\n",
    "</div>\r\n"
   ]
  },
  {
   "cell_type": "markdown",
   "id": "ba45636a-2668-49d6-80ef-af82b93efc81",
   "metadata": {},
   "source": [
    "<div style=\"text-align: center; font-size: 20px; font-weight: bold;\">\n",
    "   Innovation Call\n",
    "</div>"
   ]
  },
  {
   "cell_type": "markdown",
   "id": "e5cec8ed-6b9e-439b-bb3b-9713dfd35592",
   "metadata": {},
   "source": [
    "<div style=\"text-align: center; font-size: 16px; font-weight: bold;\">\n",
    "   Universidad Europea & HPE\n",
    "</div>"
   ]
  },
  {
   "cell_type": "markdown",
   "id": "5e9eb4d5-f16a-46d9-8bc7-44d3a1ab05e2",
   "metadata": {},
   "source": [
    "<div style=\"text-align: center; font-size: 14px;\">\n",
    "   Ángela Díaz-Maroto, Alba Fernández, Cristina Somalo, Andrés Bai y Jorge gonzález\n",
    "</div>"
   ]
  },
  {
   "cell_type": "markdown",
   "id": "0180089b-3c97-410a-98bb-d552bd8892c6",
   "metadata": {},
   "source": [
    "--------------------------------------------------"
   ]
  },
  {
   "cell_type": "markdown",
   "id": "4b44cc62-155e-4cd1-a04b-c31046f42407",
   "metadata": {},
   "source": [
    "https://www.acciona-energia.com/es/tecnologias-y-soluciones/soluciones/autoconsumo/"
   ]
  },
  {
   "cell_type": "markdown",
   "id": "b2c6e7dc-f54f-488a-a6fc-a3cea97dab87",
   "metadata": {},
   "source": [
    "https://soluciones.acciona-energia.com/hogares/solar/placas-solares (precio acciona por placas solares)"
   ]
  },
  {
   "cell_type": "markdown",
   "id": "af8b1baa-1eb9-44a9-af50-1a607ed0b6f1",
   "metadata": {},
   "source": [
    "https://www.madrid.es/portales/munimadrid/es/Inicio/Medio-ambiente/Eficiencia-energetica-en-el-Ayuntamiento-de-Madrid/?vgnextfmt=default&vgnextoid=258fa4e0fe91d610VgnVCM1000001d4a900aRCRD&vgnextchannel=3edd31d3b28fe410VgnVCM1000000b205a0aRCRD&idCapitulo=11072091\n",
    "(consumo y generación de energía en la Comunidad de Madrid entre 2018 y 2023)"
   ]
  },
  {
   "cell_type": "markdown",
   "id": "1ba1383e-069d-42c8-bf76-8ace24106186",
   "metadata": {},
   "source": [
    "https://www.comunidad.madrid/sites/default/files/doc/medio-ambiente/balance_energetico_2021_de_la_comunidad_de_madrid_provisional.pdf\n",
    "(balance energético 2021)"
   ]
  },
  {
   "cell_type": "markdown",
   "id": "49816974-30d4-441b-95a4-3ec11546b992",
   "metadata": {},
   "source": [
    "https://datos.madrid.es/portal/site/egob/menuitem.c05c1f754a33a9fbe4b2e4b284f1a5a0/?vgnextoid=d6fe4f894ef31710VgnVCM1000001d4a900aRCRD&vgnextchannel=374512b9ace9f310VgnVCM100000171f5a0aRCRD&vgnextfmt=default"
   ]
  },
  {
   "cell_type": "markdown",
   "id": "ad55b194-cab5-4beb-8aa7-09ac338eb3bc",
   "metadata": {},
   "source": [
    "https://www.menosdeluz.com/precio-luz-madrid"
   ]
  },
  {
   "cell_type": "markdown",
   "id": "a4fb861d-a17e-4df5-9d06-247042c4957d",
   "metadata": {},
   "source": [
    "https://www.mintur.gob.es/es-es/IndicadoresyEstadisticas/BoletinEstadistico/Energ%C3%ADa%20y%20emisiones/4_12.pdf"
   ]
  },
  {
   "cell_type": "markdown",
   "id": "7efefbeb-440e-4e0e-b9e3-0e6acf387885",
   "metadata": {},
   "source": [
    "https://fultonsolarenergy.es/"
   ]
  },
  {
   "cell_type": "markdown",
   "id": "5bf89027-4a27-457e-bdd8-5a8ee4f85c89",
   "metadata": {},
   "source": [
    "https://fultonsolarenergy.es/instalacion-fotovoltaica-con-paneles-bifaciales-en-planetario-de-madrid-2/"
   ]
  },
  {
   "cell_type": "markdown",
   "id": "73ee80a4-cfb2-4833-bf5b-de2b11d8fbd6",
   "metadata": {},
   "source": [
    "--------------------"
   ]
  },
  {
   "cell_type": "markdown",
   "id": "2dfeec67-2f26-4d6e-8570-7337bb4c5a58",
   "metadata": {},
   "source": [
    "# __SOBRE NOSOTROS__"
   ]
  },
  {
   "cell_type": "code",
   "execution_count": null,
   "id": "cb3b78c1-c4db-4870-80d1-e6a7b912b48d",
   "metadata": {},
   "outputs": [],
   "source": []
  }
 ],
 "metadata": {
  "kernelspec": {
   "display_name": "Python 3 (ipykernel)",
   "language": "python",
   "name": "python3"
  },
  "language_info": {
   "codemirror_mode": {
    "name": "ipython",
    "version": 3
   },
   "file_extension": ".py",
   "mimetype": "text/x-python",
   "name": "python",
   "nbconvert_exporter": "python",
   "pygments_lexer": "ipython3",
   "version": "3.12.4"
  }
 },
 "nbformat": 4,
 "nbformat_minor": 5
}
